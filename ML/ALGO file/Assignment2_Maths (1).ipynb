{
 "cells": [
  {
   "cell_type": "code",
   "execution_count": 24,
   "id": "cc5e5b12",
   "metadata": {},
   "outputs": [
    {
     "data": {
      "text/html": [
       "<div>\n",
       "<style scoped>\n",
       "    .dataframe tbody tr th:only-of-type {\n",
       "        vertical-align: middle;\n",
       "    }\n",
       "\n",
       "    .dataframe tbody tr th {\n",
       "        vertical-align: top;\n",
       "    }\n",
       "\n",
       "    .dataframe thead th {\n",
       "        text-align: right;\n",
       "    }\n",
       "</style>\n",
       "<table border=\"1\" class=\"dataframe\">\n",
       "  <thead>\n",
       "    <tr style=\"text-align: right;\">\n",
       "      <th></th>\n",
       "      <th>X</th>\n",
       "      <th>Y</th>\n",
       "    </tr>\n",
       "  </thead>\n",
       "  <tbody>\n",
       "    <tr>\n",
       "      <th>0</th>\n",
       "      <td>57</td>\n",
       "      <td>114</td>\n",
       "    </tr>\n",
       "    <tr>\n",
       "      <th>1</th>\n",
       "      <td>50</td>\n",
       "      <td>101</td>\n",
       "    </tr>\n",
       "    <tr>\n",
       "      <th>2</th>\n",
       "      <td>59</td>\n",
       "      <td>123</td>\n",
       "    </tr>\n",
       "    <tr>\n",
       "      <th>3</th>\n",
       "      <td>51</td>\n",
       "      <td>106</td>\n",
       "    </tr>\n",
       "    <tr>\n",
       "      <th>4</th>\n",
       "      <td>51</td>\n",
       "      <td>105</td>\n",
       "    </tr>\n",
       "    <tr>\n",
       "      <th>5</th>\n",
       "      <td>69</td>\n",
       "      <td>142</td>\n",
       "    </tr>\n",
       "    <tr>\n",
       "      <th>6</th>\n",
       "      <td>51</td>\n",
       "      <td>106</td>\n",
       "    </tr>\n",
       "    <tr>\n",
       "      <th>7</th>\n",
       "      <td>77</td>\n",
       "      <td>159</td>\n",
       "    </tr>\n",
       "    <tr>\n",
       "      <th>8</th>\n",
       "      <td>65</td>\n",
       "      <td>131</td>\n",
       "    </tr>\n",
       "    <tr>\n",
       "      <th>9</th>\n",
       "      <td>64</td>\n",
       "      <td>128</td>\n",
       "    </tr>\n",
       "    <tr>\n",
       "      <th>10</th>\n",
       "      <td>69</td>\n",
       "      <td>139</td>\n",
       "    </tr>\n",
       "    <tr>\n",
       "      <th>11</th>\n",
       "      <td>74</td>\n",
       "      <td>153</td>\n",
       "    </tr>\n",
       "    <tr>\n",
       "      <th>12</th>\n",
       "      <td>54</td>\n",
       "      <td>111</td>\n",
       "    </tr>\n",
       "    <tr>\n",
       "      <th>13</th>\n",
       "      <td>55</td>\n",
       "      <td>115</td>\n",
       "    </tr>\n",
       "    <tr>\n",
       "      <th>14</th>\n",
       "      <td>65</td>\n",
       "      <td>131</td>\n",
       "    </tr>\n",
       "    <tr>\n",
       "      <th>15</th>\n",
       "      <td>59</td>\n",
       "      <td>118</td>\n",
       "    </tr>\n",
       "    <tr>\n",
       "      <th>16</th>\n",
       "      <td>75</td>\n",
       "      <td>152</td>\n",
       "    </tr>\n",
       "    <tr>\n",
       "      <th>17</th>\n",
       "      <td>67</td>\n",
       "      <td>136</td>\n",
       "    </tr>\n",
       "    <tr>\n",
       "      <th>18</th>\n",
       "      <td>57</td>\n",
       "      <td>119</td>\n",
       "    </tr>\n",
       "    <tr>\n",
       "      <th>19</th>\n",
       "      <td>57</td>\n",
       "      <td>118</td>\n",
       "    </tr>\n",
       "  </tbody>\n",
       "</table>\n",
       "</div>"
      ],
      "text/plain": [
       "     X    Y\n",
       "0   57  114\n",
       "1   50  101\n",
       "2   59  123\n",
       "3   51  106\n",
       "4   51  105\n",
       "5   69  142\n",
       "6   51  106\n",
       "7   77  159\n",
       "8   65  131\n",
       "9   64  128\n",
       "10  69  139\n",
       "11  74  153\n",
       "12  54  111\n",
       "13  55  115\n",
       "14  65  131\n",
       "15  59  118\n",
       "16  75  152\n",
       "17  67  136\n",
       "18  57  119\n",
       "19  57  118"
      ]
     },
     "execution_count": 24,
     "metadata": {},
     "output_type": "execute_result"
    }
   ],
   "source": [
    "import matplotlib.pyplot as plt\n",
    "import numpy as np\n",
    "import pandas as pd\n",
    "\n",
    "df = pd.read_excel('SampleData.xlsx')\n",
    "df"
   ]
  },
  {
   "cell_type": "code",
   "execution_count": 2,
   "id": "40c013fa",
   "metadata": {},
   "outputs": [],
   "source": [
    "#----------Calculate (PCA)--------------------"
   ]
  },
  {
   "cell_type": "code",
   "execution_count": 3,
   "id": "0f8bb973",
   "metadata": {},
   "outputs": [],
   "source": [
    "D = df.to_numpy()"
   ]
  },
  {
   "cell_type": "code",
   "execution_count": 4,
   "id": "44f5becf",
   "metadata": {},
   "outputs": [
    {
     "data": {
      "text/plain": [
       "array([[ 57, 114],\n",
       "       [ 50, 101],\n",
       "       [ 59, 123],\n",
       "       [ 51, 106],\n",
       "       [ 51, 105],\n",
       "       [ 69, 142],\n",
       "       [ 51, 106],\n",
       "       [ 77, 159],\n",
       "       [ 65, 131],\n",
       "       [ 64, 128],\n",
       "       [ 69, 139],\n",
       "       [ 74, 153],\n",
       "       [ 54, 111],\n",
       "       [ 55, 115],\n",
       "       [ 65, 131],\n",
       "       [ 59, 118],\n",
       "       [ 75, 152],\n",
       "       [ 67, 136],\n",
       "       [ 57, 119],\n",
       "       [ 57, 118]], dtype=int64)"
      ]
     },
     "execution_count": 4,
     "metadata": {},
     "output_type": "execute_result"
    }
   ],
   "source": [
    "D"
   ]
  },
  {
   "cell_type": "code",
   "execution_count": 5,
   "id": "de4a8966",
   "metadata": {},
   "outputs": [
    {
     "data": {
      "text/plain": [
       "<matplotlib.collections.PathCollection at 0x2033f9be4f0>"
      ]
     },
     "execution_count": 5,
     "metadata": {},
     "output_type": "execute_result"
    },
    {
     "data": {
      "image/png": "[encoded data removed]",
      "text/plain": [
       "<Figure size 640x480 with 1 Axes>"
      ]
     },
     "metadata": {},
     "output_type": "display_data"
    }
   ],
   "source": [
    "plt.scatter(df['X'],df['Y'])"
   ]
  },
  {
   "cell_type": "code",
   "execution_count": 6,
   "id": "0c853746",
   "metadata": {},
   "outputs": [],
   "source": [
    "c = df.corr()"
   ]
  },
  {
   "cell_type": "code",
   "execution_count": 7,
   "id": "59fbce92",
   "metadata": {},
   "outputs": [
    {
     "data": {
      "text/html": [
       "<div>\n",
       "<style scoped>\n",
       "    .dataframe tbody tr th:only-of-type {\n",
       "        vertical-align: middle;\n",
       "    }\n",
       "\n",
       "    .dataframe tbody tr th {\n",
       "        vertical-align: top;\n",
       "    }\n",
       "\n",
       "    .dataframe thead th {\n",
       "        text-align: right;\n",
       "    }\n",
       "</style>\n",
       "<table border=\"1\" class=\"dataframe\">\n",
       "  <thead>\n",
       "    <tr style=\"text-align: right;\">\n",
       "      <th></th>\n",
       "      <th>X</th>\n",
       "      <th>Y</th>\n",
       "    </tr>\n",
       "  </thead>\n",
       "  <tbody>\n",
       "    <tr>\n",
       "      <th>X</th>\n",
       "      <td>1.00000</td>\n",
       "      <td>0.99394</td>\n",
       "    </tr>\n",
       "    <tr>\n",
       "      <th>Y</th>\n",
       "      <td>0.99394</td>\n",
       "      <td>1.00000</td>\n",
       "    </tr>\n",
       "  </tbody>\n",
       "</table>\n",
       "</div>"
      ],
      "text/plain": [
       "         X        Y\n",
       "X  1.00000  0.99394\n",
       "Y  0.99394  1.00000"
      ]
     },
     "execution_count": 7,
     "metadata": {},
     "output_type": "execute_result"
    }
   ],
   "source": [
    "c"
   ]
  },
  {
   "cell_type": "code",
   "execution_count": 8,
   "id": "e7131b1e",
   "metadata": {},
   "outputs": [],
   "source": [
    "A,B=np.linalg.eig(c)"
   ]
  },
  {
   "cell_type": "code",
   "execution_count": 9,
   "id": "412bccb7",
   "metadata": {},
   "outputs": [
    {
     "data": {
      "text/plain": [
       "array([1.99393974, 0.00606026])"
      ]
     },
     "execution_count": 9,
     "metadata": {},
     "output_type": "execute_result"
    }
   ],
   "source": [
    "A"
   ]
  },
  {
   "cell_type": "code",
   "execution_count": 10,
   "id": "31531757",
   "metadata": {},
   "outputs": [
    {
     "data": {
      "text/plain": [
       "array([[ 0.70710678, -0.70710678],\n",
       "       [ 0.70710678,  0.70710678]])"
      ]
     },
     "execution_count": 10,
     "metadata": {},
     "output_type": "execute_result"
    }
   ],
   "source": [
    "B"
   ]
  },
  {
   "cell_type": "code",
   "execution_count": 11,
   "id": "d33621a5",
   "metadata": {},
   "outputs": [],
   "source": [
    "PC1 = np.matmul(D,B[:,0])"
   ]
  },
  {
   "cell_type": "code",
   "execution_count": 12,
   "id": "a3dcd013",
   "metadata": {},
   "outputs": [],
   "source": [
    "PC2 = np.matmul(D,B[:,1])"
   ]
  },
  {
   "cell_type": "code",
   "execution_count": 13,
   "id": "4babb286",
   "metadata": {},
   "outputs": [
    {
     "data": {
      "text/plain": [
       "<matplotlib.collections.PathCollection at 0x203400d9ac0>"
      ]
     },
     "execution_count": 13,
     "metadata": {},
     "output_type": "execute_result"
    },
    {
     "data": {
      "image/png": "[encoded data removed]",
      "text/plain": [
       "<Figure size 640x480 with 1 Axes>"
      ]
     },
     "metadata": {},
     "output_type": "display_data"
    }
   ],
   "source": [
    "plt.scatter(PC1,PC2)"
   ]
  },
  {
   "cell_type": "code",
   "execution_count": 14,
   "id": "2ef7a0f6",
   "metadata": {},
   "outputs": [],
   "source": [
    "#------------ SVD - (Singular Value De-composition) -----------------"
   ]
  },
  {
   "cell_type": "code",
   "execution_count": 25,
   "id": "2cdd5d34",
   "metadata": {},
   "outputs": [
    {
     "data": {
      "text/plain": [
       "array([[ 57, 114],\n",
       "       [ 50, 101],\n",
       "       [ 59, 123],\n",
       "       [ 51, 106],\n",
       "       [ 51, 105],\n",
       "       [ 69, 142],\n",
       "       [ 51, 106],\n",
       "       [ 77, 159],\n",
       "       [ 65, 131],\n",
       "       [ 64, 128],\n",
       "       [ 69, 139],\n",
       "       [ 74, 153],\n",
       "       [ 54, 111],\n",
       "       [ 55, 115],\n",
       "       [ 65, 131],\n",
       "       [ 59, 118],\n",
       "       [ 75, 152],\n",
       "       [ 67, 136],\n",
       "       [ 57, 119],\n",
       "       [ 57, 118]], dtype=int64)"
      ]
     },
     "execution_count": 25,
     "metadata": {},
     "output_type": "execute_result"
    }
   ],
   "source": [
    "A =D\n",
    "A"
   ]
  },
  {
   "cell_type": "code",
   "execution_count": 27,
   "id": "ad1e71b6",
   "metadata": {},
   "outputs": [
    {
     "data": {
      "text/plain": [
       "array([[16245, 14364, 17385, 14991, 14877, 20121, 14991, 22515, 18639,\n",
       "        18240, 19779, 21660, 15732, 16245, 18639, 16815, 21603, 19323,\n",
       "        16815, 16701],\n",
       "       [14364, 12701, 15373, 13256, 13155, 17792, 13256, 19909, 16481,\n",
       "        16128, 17489, 19153, 13911, 14365, 16481, 14868, 19102, 17086,\n",
       "        14869, 14768],\n",
       "       [17385, 15373, 18610, 16047, 15924, 21537, 16047, 24100, 19948,\n",
       "        19520, 21168, 23185, 16839, 17390, 19948, 17995, 23121, 20681,\n",
       "        18000, 17877],\n",
       "       [14991, 13256, 16047, 13837, 13731, 18571, 13837, 20781, 17201,\n",
       "        16832, 18253, 19992, 14520, 14995, 17201, 15517, 19937, 17833,\n",
       "        15521, 15415],\n",
       "       [14877, 13155, 15924, 13731, 13626, 18429, 13731, 20622, 17070,\n",
       "        16704, 18114, 19839, 14409, 14880, 17070, 15399, 19785, 17697,\n",
       "        15402, 15297],\n",
       "       [20121, 17792, 21537, 18571, 18429, 24925, 18571, 27891, 23087,\n",
       "        22592, 24499, 26832, 19488, 20125, 23087, 20827, 26759, 23935,\n",
       "        20831, 20689],\n",
       "       [14991, 13256, 16047, 13837, 13731, 18571, 13837, 20781, 17201,\n",
       "        16832, 18253, 19992, 14520, 14995, 17201, 15517, 19937, 17833,\n",
       "        15521, 15415],\n",
       "       [22515, 19909, 24100, 20781, 20622, 27891, 20781, 31210, 25834,\n",
       "        25280, 27414, 30025, 21807, 22520, 25834, 23305, 29943, 26783,\n",
       "        23310, 23151],\n",
       "       [18639, 16481, 19948, 17201, 17070, 23087, 17201, 25834, 21386,\n",
       "        20928, 22694, 24853, 18051, 18640, 21386, 19293, 24787, 22171,\n",
       "        19294, 19163],\n",
       "       [18240, 16128, 19520, 16832, 16704, 22592, 16832, 25280, 20928,\n",
       "        20480, 22208, 24320, 17664, 18240, 20928, 18880, 24256, 21696,\n",
       "        18880, 18752],\n",
       "       [19779, 17489, 21168, 18253, 18114, 24499, 18253, 27414, 22694,\n",
       "        22208, 24082, 26373, 19155, 19780, 22694, 20473, 26303, 23527,\n",
       "        20474, 20335],\n",
       "       [21660, 19153, 23185, 19992, 19839, 26832, 19992, 30025, 24853,\n",
       "        24320, 26373, 28885, 20979, 21665, 24853, 22420, 28806, 25766,\n",
       "        22425, 22272],\n",
       "       [15732, 13911, 16839, 14520, 14409, 19488, 14520, 21807, 18051,\n",
       "        17664, 19155, 20979, 15237, 15735, 18051, 16284, 20922, 18714,\n",
       "        16287, 16176],\n",
       "       [16245, 14365, 17390, 14995, 14880, 20125, 14995, 22520, 18640,\n",
       "        18240, 19780, 21665, 15735, 16250, 18640, 16815, 21605, 19325,\n",
       "        16820, 16705],\n",
       "       [18639, 16481, 19948, 17201, 17070, 23087, 17201, 25834, 21386,\n",
       "        20928, 22694, 24853, 18051, 18640, 21386, 19293, 24787, 22171,\n",
       "        19294, 19163],\n",
       "       [16815, 14868, 17995, 15517, 15399, 20827, 15517, 23305, 19293,\n",
       "        18880, 20473, 22420, 16284, 16815, 19293, 17405, 22361, 20001,\n",
       "        17405, 17287],\n",
       "       [21603, 19102, 23121, 19937, 19785, 26759, 19937, 29943, 24787,\n",
       "        24256, 26303, 28806, 20922, 21605, 24787, 22361, 28729, 25697,\n",
       "        22363, 22211],\n",
       "       [19323, 17086, 20681, 17833, 17697, 23935, 17833, 26783, 22171,\n",
       "        21696, 23527, 25766, 18714, 19325, 22171, 20001, 25697, 22985,\n",
       "        20003, 19867],\n",
       "       [16815, 14869, 18000, 15521, 15402, 20831, 15521, 23310, 19294,\n",
       "        18880, 20474, 22425, 16287, 16820, 19294, 17405, 22363, 20003,\n",
       "        17410, 17291],\n",
       "       [16701, 14768, 17877, 15415, 15297, 20689, 15415, 23151, 19163,\n",
       "        18752, 20335, 22272, 16176, 16705, 19163, 17287, 22211, 19867,\n",
       "        17291, 17173]], dtype=int64)"
      ]
     },
     "execution_count": 27,
     "metadata": {},
     "output_type": "execute_result"
    }
   ],
   "source": [
    "mul1 = np.matmul(A,tr_A)\n",
    "mul1"
   ]
  },
  {
   "cell_type": "code",
   "execution_count": 28,
   "id": "b15b6626",
   "metadata": {},
   "outputs": [
    {
     "data": {
      "text/plain": [
       "(array([ 3.96385363e+05+0.00000000e+00j,  5.83888493e-12+0.00000000e+00j,\n",
       "         1.36366286e+01+0.00000000e+00j, -8.70187911e-13+0.00000000e+00j,\n",
       "         1.22730421e-14+0.00000000e+00j, -5.97860537e-16+5.76006132e-16j,\n",
       "        -5.97860537e-16-5.76006132e-16j,  3.98238782e-16+1.16832308e-16j,\n",
       "         3.98238782e-16-1.16832308e-16j, -1.50236982e-16+1.79411078e-16j,\n",
       "        -1.50236982e-16-1.79411078e-16j,  1.63111172e-16+1.43402032e-16j,\n",
       "         1.63111172e-16-1.43402032e-16j, -1.36348292e-16+0.00000000e+00j,\n",
       "         7.93225612e-18+8.65810083e-17j,  7.93225612e-18-8.65810083e-17j,\n",
       "         2.72638881e-17+0.00000000e+00j,  4.41932989e-18+0.00000000e+00j,\n",
       "        -3.46613294e-33+0.00000000e+00j,  7.67418082e-28+0.00000000e+00j]),\n",
       " array([[ 2.02434499e-01+0.00000000e+00j, -9.31861395e-01+0.00000000e+00j,\n",
       "          3.01089047e-01+0.00000000e+00j,  1.80961309e-02+0.00000000e+00j,\n",
       "          2.81781705e-04+0.00000000e+00j, -3.92811021e-05+1.05227783e-05j,\n",
       "         -3.92811021e-05-1.05227783e-05j, -3.88402018e-06-4.99653409e-06j,\n",
       "         -3.88402018e-06+4.99653409e-06j,  3.47190559e-06-7.98226211e-07j,\n",
       "          3.47190559e-06+7.98226211e-07j,  3.96337402e-06-4.31862621e-07j,\n",
       "          3.96337402e-06+4.31862621e-07j, -1.13080572e-05+0.00000000e+00j,\n",
       "          2.77760011e-06-2.56937278e-06j,  2.77760011e-06+2.56937278e-06j,\n",
       "         -6.06049392e-06+0.00000000e+00j,  1.05219811e-05+0.00000000e+00j,\n",
       "          2.29087110e-16+0.00000000e+00j, -1.40317256e-16+0.00000000e+00j],\n",
       "        [ 1.79000912e-01+0.00000000e+00j,  8.57764597e-02+0.00000000e+00j,\n",
       "          1.45125875e-01+0.00000000e+00j,  1.64915047e-02+0.00000000e+00j,\n",
       "          2.31698121e-04+0.00000000e+00j, -5.01108983e-06+9.53840338e-06j,\n",
       "         -5.01108983e-06-9.53840338e-06j, -4.00347792e-06-4.09783919e-06j,\n",
       "         -4.00347792e-06+4.09783919e-06j, -1.03381167e-06+2.76989538e-06j,\n",
       "         -1.03381167e-06-2.76989538e-06j,  3.24897185e-07-1.10116384e-06j,\n",
       "          3.24897185e-07+1.10116384e-06j,  1.70376189e-06+0.00000000e+00j,\n",
       "         -6.76127225e-07-7.02038516e-08j, -6.76127225e-07+7.02038516e-08j,\n",
       "          8.30254272e-07+0.00000000e+00j, -1.74945567e-06+0.00000000e+00j,\n",
       "         -2.52870538e-18+0.00000000e+00j,  7.76696183e-17+0.00000000e+00j],\n",
       "        [ 2.16671411e-01+0.00000000e+00j, -4.44611755e-02+0.00000000e+00j,\n",
       "         -2.83283044e-01+0.00000000e+00j,  1.83079237e-01+0.00000000e+00j,\n",
       "         -1.78924602e-01+0.00000000e+00j, -2.01716818e-01+9.25997388e-03j,\n",
       "         -2.01716818e-01-9.25997388e-03j,  3.03351450e-02-1.53573248e-02j,\n",
       "          3.03351450e-02+1.53573248e-02j, -7.51268820e-03-1.56726824e-02j,\n",
       "         -7.51268820e-03+1.56726824e-02j, -4.75235914e-02+7.43512451e-04j,\n",
       "         -4.75235914e-02-7.43512451e-04j, -1.59298084e-02+0.00000000e+00j,\n",
       "          2.05041837e-02-1.22429775e-02j,  2.05041837e-02+1.22429775e-02j,\n",
       "         -2.30474157e-02+0.00000000e+00j,  1.66315023e-02+0.00000000e+00j,\n",
       "          4.79694434e-13+0.00000000e+00j, -4.56369357e-13+0.00000000e+00j],\n",
       "        [ 1.86832762e-01+0.00000000e+00j, -2.61516357e-02+0.00000000e+00j,\n",
       "         -2.06553832e-01+0.00000000e+00j, -1.40676255e-02+0.00000000e+00j,\n",
       "          2.48382707e-02+0.00000000e+00j, -1.02077186e-01-2.59950377e-02j,\n",
       "         -1.02077186e-01+2.59950377e-02j,  5.75299172e-02+1.08153543e-02j,\n",
       "          5.75299172e-02-1.08153543e-02j,  1.70989595e-02-1.38047262e-01j,\n",
       "          1.70989595e-02+1.38047262e-01j,  4.12155339e-03-1.02306836e-01j,\n",
       "          4.12155339e-03+1.02306836e-01j, -2.02229487e-01+0.00000000e+00j,\n",
       "          6.42211300e-02-4.39736529e-02j,  6.42211300e-02+4.39736529e-02j,\n",
       "         -1.01180031e-02+0.00000000e+00j,  1.30342640e-01+0.00000000e+00j,\n",
       "          1.79489205e-06+0.00000000e+00j, -7.07106781e-01+0.00000000e+00j],\n",
       "        [ 1.85405973e-01+0.00000000e+00j,  1.19838088e-02+0.00000000e+00j,\n",
       "         -8.75665082e-02+0.00000000e+00j,  3.28680080e-01+0.00000000e+00j,\n",
       "         -3.28947715e-01+0.00000000e+00j, -2.69640682e-01-2.13270158e-02j,\n",
       "         -2.69640682e-01+2.13270158e-02j,  1.63137586e-01+6.57930274e-02j,\n",
       "          1.63137586e-01-6.57930274e-02j, -2.31403122e-01+1.83695326e-01j,\n",
       "         -2.31403122e-01-1.83695326e-01j, -1.07748431e-01+3.17431119e-01j,\n",
       "         -1.07748431e-01-3.17431119e-01j, -1.32210500e-01+0.00000000e+00j,\n",
       "          2.54956559e-01-2.72372088e-01j,  2.54956559e-01+2.72372088e-01j,\n",
       "         -4.61743747e-01+0.00000000e+00j,  4.57497369e-01+0.00000000e+00j,\n",
       "          1.08620585e-11+0.00000000e+00j, -3.77056942e-12+0.00000000e+00j],\n",
       "        [ 2.50759446e-01+0.00000000e+00j,  1.84566498e-02+0.00000000e+00j,\n",
       "         -1.11473080e-01+0.00000000e+00j, -1.85210370e-02+0.00000000e+00j,\n",
       "          1.03294003e-02+0.00000000e+00j,  8.17012129e-02+6.16625889e-02j,\n",
       "          8.17012129e-02-6.16625889e-02j,  5.81910746e-02+2.17573548e-02j,\n",
       "          5.81910746e-02-2.17573548e-02j, -1.45040484e-01+5.08157404e-02j,\n",
       "         -1.45040484e-01-5.08157404e-02j, -4.40872302e-02-1.84213014e-01j,\n",
       "         -4.40872302e-02+1.84213014e-01j,  9.74453887e-02+0.00000000e+00j,\n",
       "          1.14956665e-01+3.41131903e-01j,  1.14956665e-01-3.41131903e-01j,\n",
       "          6.46381509e-02+0.00000000e+00j, -1.14743544e-01+0.00000000e+00j,\n",
       "         -3.35266134e-12+0.00000000e+00j,  8.20570067e-13+0.00000000e+00j],\n",
       "        [ 1.86832762e-01+0.00000000e+00j, -2.61516357e-02+0.00000000e+00j,\n",
       "         -2.06553832e-01+0.00000000e+00j, -1.40676255e-02+0.00000000e+00j,\n",
       "          2.48382707e-02+0.00000000e+00j, -1.02077186e-01-2.59950377e-02j,\n",
       "         -1.02077186e-01+2.59950377e-02j,  5.75299172e-02+1.08153543e-02j,\n",
       "          5.75299172e-02-1.08153543e-02j,  1.70989595e-02-1.38047262e-01j,\n",
       "          1.70989595e-02+1.38047262e-01j,  4.12155339e-03-1.02306836e-01j,\n",
       "          4.12155339e-03+1.02306836e-01j, -2.02229487e-01+0.00000000e+00j,\n",
       "          6.42211300e-02-4.39736529e-02j,  6.42211300e-02+4.39736529e-02j,\n",
       "         -1.01180031e-02+0.00000000e+00j,  1.30342640e-01+0.00000000e+00j,\n",
       "         -1.79488831e-06+0.00000000e+00j,  7.07106781e-01+0.00000000e+00j],\n",
       "        [ 2.80598095e-01+0.00000000e+00j,  1.47110023e-04+0.00000000e+00j,\n",
       "         -1.88202292e-01+0.00000000e+00j, -3.34484636e-01+0.00000000e+00j,\n",
       "          3.45558648e-01+0.00000000e+00j,  1.54097184e-01-1.39712477e-01j,\n",
       "          1.54097184e-01+1.39712477e-01j, -5.22234880e-01+0.00000000e+00j,\n",
       "         -5.22234880e-01-0.00000000e+00j,  1.35870230e-01-9.98625665e-02j,\n",
       "          1.35870230e-01+9.98625665e-02j,  4.80274458e-01+0.00000000e+00j,\n",
       "          4.80274458e-01-0.00000000e+00j, -4.78331570e-01+0.00000000e+00j,\n",
       "          1.66007773e-01-6.84214504e-02j,  1.66007773e-01+6.84214504e-02j,\n",
       "         -3.68044079e-01+0.00000000e+00j,  2.44512400e-01+0.00000000e+00j,\n",
       "          6.29563065e-12+0.00000000e+00j, -2.34189392e-12+0.00000000e+00j],\n",
       "        [ 2.32273148e-01+0.00000000e+00j,  1.22950031e-01+0.00000000e+00j,\n",
       "          2.24359835e-01+0.00000000e+00j, -1.58599147e-01+0.00000000e+00j,\n",
       "          1.41877918e-01+0.00000000e+00j,  2.73604805e-01+1.31383115e-01j,\n",
       "          2.73604805e-01-1.31383115e-01j,  2.02948760e-02-6.46220964e-02j,\n",
       "          2.02948760e-02+6.46220964e-02j,  1.27496053e-01-4.05712920e-02j,\n",
       "          1.27496053e-01+4.05712920e-02j, -5.30663254e-02-6.07001811e-02j,\n",
       "         -5.30663254e-02+6.07001811e-02j,  8.67901786e-02+0.00000000e+00j,\n",
       "         -1.05568377e-01+2.88232630e-02j, -1.05568377e-01-2.88232630e-02j,\n",
       "         -4.32669738e-02+0.00000000e+00j,  9.95677245e-02+0.00000000e+00j,\n",
       "          7.07106781e-01+0.00000000e+00j, -5.83242226e-07+0.00000000e+00j],\n",
       "        [ 2.27294876e-01+0.00000000e+00j,  1.58607237e-01+0.00000000e+00j,\n",
       "          3.38064895e-01+0.00000000e+00j,  2.13308843e-01+0.00000000e+00j,\n",
       "         -2.11404173e-01+0.00000000e+00j, -2.85559198e-01-4.69692535e-02j,\n",
       "         -2.85559198e-01+4.69692535e-02j,  1.77098716e-01+1.50938619e-01j,\n",
       "          1.77098716e-01-1.50938619e-01j,  1.01847333e-01+5.96150175e-02j,\n",
       "          1.01847333e-01-5.96150175e-02j,  2.09680429e-01-3.94970334e-02j,\n",
       "          2.09680429e-01+3.94970334e-02j, -6.25212362e-02+0.00000000e+00j,\n",
       "          2.35801258e-03-3.86999228e-04j,  2.35801258e-03+3.86999228e-04j,\n",
       "          5.64521910e-02+0.00000000e+00j,  3.51506523e-02+0.00000000e+00j,\n",
       "         -1.46109889e-13+0.00000000e+00j,  1.25254458e-12+0.00000000e+00j],\n",
       "        [ 2.46479078e-01+0.00000000e+00j,  1.32862983e-01+0.00000000e+00j,\n",
       "          2.45488891e-01+0.00000000e+00j, -1.66477662e-02+0.00000000e+00j,\n",
       "          1.82475947e-02+0.00000000e+00j, -4.53156330e-02-3.49903336e-02j,\n",
       "         -4.53156330e-02+3.49903336e-02j, -1.35676467e-01-1.22871736e-02j,\n",
       "         -1.35676467e-01+1.22871736e-02j, -7.02979536e-02-7.45737327e-02j,\n",
       "         -7.02979536e-02+7.45737327e-02j,  9.29410697e-02+1.28952824e-02j,\n",
       "          9.29410697e-02-1.28952824e-02j,  2.13742603e-02+0.00000000e+00j,\n",
       "          2.91540776e-01-1.11598349e-01j,  2.91540776e-01+1.11598349e-01j,\n",
       "         -8.08218297e-02+0.00000000e+00j, -3.46931526e-01+0.00000000e+00j,\n",
       "         -5.38856272e-12+0.00000000e+00j, -3.00888860e-13+0.00000000e+00j],\n",
       "        [ 2.69943648e-01+0.00000000e+00j, -7.28760423e-03+0.00000000e+00j,\n",
       "         -2.04049084e-01+0.00000000e+00j, -2.48372069e-01+0.00000000e+00j,\n",
       "          2.47583988e-01+0.00000000e+00j,  1.98481753e-01-9.00872344e-02j,\n",
       "          1.98481753e-01+9.00872344e-02j,  3.32506842e-02-1.50784639e-01j,\n",
       "          3.32506842e-02+1.50784639e-01j,  4.24603777e-01+0.00000000e+00j,\n",
       "          4.24603777e-01-0.00000000e+00j, -1.38645147e-01+9.24451430e-02j,\n",
       "         -1.38645147e-01-9.24451430e-02j,  1.24237750e-01+0.00000000e+00j,\n",
       "         -1.61724528e-01+2.10422985e-01j, -1.61724528e-01-2.10422985e-01j,\n",
       "          3.20267963e-01+0.00000000e+00j, -1.34157639e-01+0.00000000e+00j,\n",
       "         -4.52416786e-12+0.00000000e+00j,  4.03174397e-12+0.00000000e+00j],\n",
       "        [ 1.96060420e-01+0.00000000e+00j,  1.94185231e-02+0.00000000e+00j,\n",
       "         -7.17197162e-02+0.00000000e+00j,  2.42321969e-01+0.00000000e+00j,\n",
       "         -2.48350994e-01+0.00000000e+00j, -1.36402117e-01+2.70627038e-02j,\n",
       "         -1.36402117e-01-2.70627038e-02j,  2.77161522e-01+6.01358456e-02j,\n",
       "          2.77161522e-01-6.01358456e-02j, -2.66418876e-01+2.68040759e-01j,\n",
       "         -2.66418876e-01-2.68040759e-01j, -2.59107848e-01-1.09148662e-01j,\n",
       "         -2.59107848e-01+1.09148662e-01j,  3.34073363e-01+0.00000000e+00j,\n",
       "         -2.53768252e-01-2.76212781e-01j, -2.53768252e-01+2.76212781e-01j,\n",
       "         -2.46893858e-01+0.00000000e+00j, -4.27269138e-01+0.00000000e+00j,\n",
       "         -3.15008866e-12+0.00000000e+00j, -4.13628415e-13+0.00000000e+00j],\n",
       "        [ 2.02465482e-01+0.00000000e+00j, -5.43741278e-02+0.00000000e+00j,\n",
       "         -3.04412100e-01+0.00000000e+00j,  2.98004125e-01+0.00000000e+00j,\n",
       "         -3.02209301e-01+0.00000000e+00j, -1.95145607e-01+4.63983847e-02j,\n",
       "         -1.95145607e-01-4.63983847e-02j,  2.96485617e-01+1.18683967e-01j,\n",
       "          2.96485617e-01-1.18683967e-01j,  1.71102608e-02-1.67185216e-01j,\n",
       "          1.71102608e-02+1.67185216e-01j, -1.00901532e-02-9.80008502e-02j,\n",
       "         -1.00901532e-02+9.80008502e-02j, -2.11909394e-01+0.00000000e+00j,\n",
       "         -1.22489330e-01+2.71394261e-02j, -1.22489330e-01-2.71394261e-02j,\n",
       "          1.80377477e-01+0.00000000e+00j,  1.41723690e-04+0.00000000e+00j,\n",
       "         -1.58370890e-12+0.00000000e+00j,  2.28639057e-12+0.00000000e+00j],\n",
       "        [ 2.32273148e-01+0.00000000e+00j,  1.22950031e-01+0.00000000e+00j,\n",
       "          2.24359835e-01+0.00000000e+00j, -1.58599147e-01+0.00000000e+00j,\n",
       "          1.41877918e-01+0.00000000e+00j,  2.73604805e-01+1.31383115e-01j,\n",
       "          2.73604805e-01-1.31383115e-01j,  2.02948760e-02-6.46220964e-02j,\n",
       "          2.02948760e-02+6.46220964e-02j,  1.27496053e-01-4.05712920e-02j,\n",
       "          1.27496053e-01+4.05712920e-02j, -5.30663254e-02-6.07001811e-02j,\n",
       "         -5.30663254e-02+6.07001811e-02j,  8.67901786e-02+0.00000000e+00j,\n",
       "         -1.05568377e-01+2.88232630e-02j, -1.05568377e-01-2.88232630e-02j,\n",
       "         -4.32669738e-02+0.00000000e+00j,  9.95677245e-02+0.00000000e+00j,\n",
       "         -7.07106781e-01+0.00000000e+00j,  5.83240413e-07+0.00000000e+00j],\n",
       "        [ 2.09537464e-01+0.00000000e+00j,  1.46216047e-01+0.00000000e+00j,\n",
       "          3.11653575e-01+0.00000000e+00j, -1.56251374e-01+0.00000000e+00j,\n",
       "          1.66082145e-01+0.00000000e+00j, -1.47760381e-02-1.34463219e-01j,\n",
       "         -1.47760381e-02+1.34463219e-01j, -3.57321033e-01-7.68673722e-02j,\n",
       "         -3.57321033e-01+7.68673722e-02j, -7.14267686e-02-1.93029267e-01j,\n",
       "         -7.14267686e-02+1.93029267e-01j, -2.25480089e-02-1.41984924e-02j,\n",
       "         -2.25480089e-02+1.41984924e-02j,  1.35706395e-02+0.00000000e+00j,\n",
       "          1.43677794e-01+3.71161852e-02j,  1.43677794e-01-3.71161852e-02j,\n",
       "         -1.29638186e-01+0.00000000e+00j,  2.61982115e-01+0.00000000e+00j,\n",
       "          4.77897358e-12+0.00000000e+00j, -2.33006778e-12+0.00000000e+00j],\n",
       "        [ 2.69214762e-01+0.00000000e+00j,  1.09596967e-01+0.00000000e+00j,\n",
       "          1.58195151e-01+0.00000000e+00j,  4.94748126e-01+0.00000000e+00j,\n",
       "         -5.00193554e-01+0.00000000e+00j, -4.23259607e-01+0.00000000e+00j,\n",
       "         -4.23259607e-01-0.00000000e+00j,  2.96932948e-01+1.65060608e-01j,\n",
       "          2.96932948e-01-1.65060608e-01j, -3.02048491e-01+5.54269956e-02j,\n",
       "         -3.02048491e-01-5.54269956e-02j,  5.76929179e-02+3.36947046e-01j,\n",
       "          5.76929179e-02-3.36947046e-01j, -7.17166276e-03+0.00000000e+00j,\n",
       "          4.61565494e-02+6.03484438e-02j,  4.61565494e-02-6.03484438e-02j,\n",
       "         -1.10676840e-02+0.00000000e+00j, -4.06264747e-01+0.00000000e+00j,\n",
       "         -6.18957050e-12+0.00000000e+00j, -5.66207337e-13+0.00000000e+00j],\n",
       "        [ 2.40802903e-01+0.00000000e+00j,  8.97710627e-02+0.00000000e+00j,\n",
       "          1.15937039e-01+0.00000000e+00j, -3.02174838e-01+0.00000000e+00j,\n",
       "          2.92732955e-01+0.00000000e+00j,  3.33461608e-01+3.59324158e-02j,\n",
       "          3.33461608e-01-3.59324158e-02j,  2.96194315e-03-1.53489985e-01j,\n",
       "          2.96194315e-03+1.53489985e-01j,  2.45863951e-01+1.52780015e-01j,\n",
       "          2.45863951e-01-1.52780015e-01j, -3.53438073e-01-1.25517055e-01j,\n",
       "         -3.53438073e-01+1.25517055e-01j, -2.42153068e-01+0.00000000e+00j,\n",
       "         -4.98975517e-01+0.00000000e+00j, -4.98975517e-01-0.00000000e+00j,\n",
       "          6.36256115e-01+0.00000000e+00j,  2.79885540e-01+0.00000000e+00j,\n",
       "         -1.52493337e-13+0.00000000e+00j,  6.52021798e-12+0.00000000e+00j],\n",
       "        [ 2.09568447e-01+0.00000000e+00j, -4.94176517e-02+0.00000000e+00j,\n",
       "         -2.93847572e-01+0.00000000e+00j, -2.73020494e-01+0.00000000e+00j,\n",
       "          2.66166965e-01+0.00000000e+00j,  3.38026383e-01+7.90558663e-02j,\n",
       "          3.38026383e-01-7.90558663e-02j, -3.38522757e-01-8.04187093e-02j,\n",
       "         -3.38522757e-01+8.04187093e-02j,  1.21241828e-01+1.27509976e-01j,\n",
       "          1.21241828e-01-1.27509976e-01j, -2.72885235e-02+2.98991876e-01j,\n",
       "         -2.72885235e-02-2.98991876e-01j,  3.23887420e-01+0.00000000e+00j,\n",
       "         -7.60120013e-02+6.65049876e-02j, -7.60120013e-02-6.65049876e-02j,\n",
       "          1.09080975e-01+0.00000000e+00j, -1.71189865e-01+0.00000000e+00j,\n",
       "         -3.19087711e-12+0.00000000e+00j, -5.61877364e-14+0.00000000e+00j],\n",
       "        [ 2.08141657e-01+0.00000000e+00j, -1.12822072e-02+0.00000000e+00j,\n",
       "         -1.74860248e-01+0.00000000e+00j,  6.99490416e-02+0.00000000e+00j,\n",
       "         -7.15800155e-02+0.00000000e+00j, -2.07666021e-02+2.99700123e-02j,\n",
       "         -2.07666021e-02-2.99700123e-02j, -3.79226689e-03+5.16097191e-02j,\n",
       "         -3.79226689e-03-5.16097191e-02j, -3.98013705e-01+1.53147125e-02j,\n",
       "         -3.98013705e-01-1.53147125e-02j,  1.41247921e-01-2.13698209e-01j,\n",
       "          1.41247921e-01+2.13698209e-01j,  5.54096724e-01+0.00000000e+00j,\n",
       "          1.79160870e-01-1.37685907e-01j,  1.79160870e-01+1.37685907e-01j,\n",
       "         -5.69730714e-02+0.00000000e+00j, -1.33965019e-02+0.00000000e+00j,\n",
       "          3.37781075e-13+0.00000000e+00j, -4.43811378e-12+0.00000000e+00j]]))"
      ]
     },
     "execution_count": 28,
     "metadata": {},
     "output_type": "execute_result"
    }
   ],
   "source": [
    "u = np.linalg.eig(mul1)\n",
    "u\n"
   ]
  },
  {
   "cell_type": "code",
   "execution_count": 29,
   "id": "3e31e832",
   "metadata": {},
   "outputs": [
    {
     "data": {
      "text/plain": [
       "array([[ 76540, 156450],\n",
       "       [156450, 319859]], dtype=int64)"
      ]
     },
     "execution_count": 29,
     "metadata": {},
     "output_type": "execute_result"
    }
   ],
   "source": [
    "mul2 = np.matmul(tr_A,A)\n",
    "mul2"
   ]
  },
  {
   "cell_type": "code",
   "execution_count": 30,
   "id": "e317a2b2",
   "metadata": {},
   "outputs": [
    {
     "data": {
      "text/plain": [
       "(array([1.36366286e+01, 3.96385363e+05]),\n",
       " array([[-0.89829441, -0.43939408],\n",
       "        [ 0.43939408, -0.89829441]]))"
      ]
     },
     "execution_count": 30,
     "metadata": {},
     "output_type": "execute_result"
    }
   ],
   "source": [
    "v = np.linalg.eig(mul2)\n",
    "v"
   ]
  },
  {
   "cell_type": "code",
   "execution_count": null,
   "id": "d156160b",
   "metadata": {},
   "outputs": [],
   "source": []
  }
 ],
 "metadata": {
  "kernelspec": {
   "display_name": "Python 3 (ipykernel)",
   "language": "python",
   "name": "python3"
  },
  "language_info": {
   "codemirror_mode": {
    "name": "ipython",
    "version": 3
   },
   "file_extension": ".py",
   "mimetype": "text/x-python",
   "name": "python",
   "nbconvert_exporter": "python",
   "pygments_lexer": "ipython3",
   "version": "3.9.13"
  }
 },
 "nbformat": 4,
 "nbformat_minor": 5
}
