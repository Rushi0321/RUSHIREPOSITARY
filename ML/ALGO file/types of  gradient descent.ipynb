{
 "cells": [
  {
   "cell_type": "code",
   "execution_count": 1,
   "metadata": {},
   "outputs": [],
   "source": [
    "import pandas as pd\n",
    "import numpy  as np"
   ]
  },
  {
   "cell_type": "code",
   "execution_count": 3,
   "metadata": {},
   "outputs": [
    {
     "data": {
      "text/plain": [
       "(20, 3)"
      ]
     },
     "execution_count": 3,
     "metadata": {},
     "output_type": "execute_result"
    }
   ],
   "source": [
    "df=pd.read_csv('homeprices_banglore.csv')\n",
    "df.shape"
   ]
  },
  {
   "cell_type": "code",
   "execution_count": 4,
   "metadata": {},
   "outputs": [
    {
     "data": {
      "text/html": [
       "<div>\n",
       "<style scoped>\n",
       "    .dataframe tbody tr th:only-of-type {\n",
       "        vertical-align: middle;\n",
       "    }\n",
       "\n",
       "    .dataframe tbody tr th {\n",
       "        vertical-align: top;\n",
       "    }\n",
       "\n",
       "    .dataframe thead th {\n",
       "        text-align: right;\n",
       "    }\n",
       "</style>\n",
       "<table border=\"1\" class=\"dataframe\">\n",
       "  <thead>\n",
       "    <tr style=\"text-align: right;\">\n",
       "      <th></th>\n",
       "      <th>area</th>\n",
       "      <th>bedrooms</th>\n",
       "      <th>price</th>\n",
       "    </tr>\n",
       "  </thead>\n",
       "  <tbody>\n",
       "    <tr>\n",
       "      <th>0</th>\n",
       "      <td>1056</td>\n",
       "      <td>2</td>\n",
       "      <td>39.07</td>\n",
       "    </tr>\n",
       "    <tr>\n",
       "      <th>1</th>\n",
       "      <td>2600</td>\n",
       "      <td>4</td>\n",
       "      <td>120.00</td>\n",
       "    </tr>\n",
       "    <tr>\n",
       "      <th>2</th>\n",
       "      <td>1440</td>\n",
       "      <td>3</td>\n",
       "      <td>62.00</td>\n",
       "    </tr>\n",
       "    <tr>\n",
       "      <th>3</th>\n",
       "      <td>1521</td>\n",
       "      <td>3</td>\n",
       "      <td>75.00</td>\n",
       "    </tr>\n",
       "    <tr>\n",
       "      <th>4</th>\n",
       "      <td>1200</td>\n",
       "      <td>2</td>\n",
       "      <td>51.00</td>\n",
       "    </tr>\n",
       "    <tr>\n",
       "      <th>5</th>\n",
       "      <td>1170</td>\n",
       "      <td>2</td>\n",
       "      <td>38.00</td>\n",
       "    </tr>\n",
       "    <tr>\n",
       "      <th>6</th>\n",
       "      <td>2732</td>\n",
       "      <td>4</td>\n",
       "      <td>135.00</td>\n",
       "    </tr>\n",
       "    <tr>\n",
       "      <th>7</th>\n",
       "      <td>3300</td>\n",
       "      <td>4</td>\n",
       "      <td>155.00</td>\n",
       "    </tr>\n",
       "    <tr>\n",
       "      <th>8</th>\n",
       "      <td>1310</td>\n",
       "      <td>3</td>\n",
       "      <td>50.00</td>\n",
       "    </tr>\n",
       "    <tr>\n",
       "      <th>9</th>\n",
       "      <td>3700</td>\n",
       "      <td>5</td>\n",
       "      <td>167.00</td>\n",
       "    </tr>\n",
       "    <tr>\n",
       "      <th>10</th>\n",
       "      <td>1800</td>\n",
       "      <td>3</td>\n",
       "      <td>82.00</td>\n",
       "    </tr>\n",
       "    <tr>\n",
       "      <th>11</th>\n",
       "      <td>2785</td>\n",
       "      <td>4</td>\n",
       "      <td>140.00</td>\n",
       "    </tr>\n",
       "    <tr>\n",
       "      <th>12</th>\n",
       "      <td>1000</td>\n",
       "      <td>2</td>\n",
       "      <td>38.00</td>\n",
       "    </tr>\n",
       "    <tr>\n",
       "      <th>13</th>\n",
       "      <td>1100</td>\n",
       "      <td>2</td>\n",
       "      <td>40.00</td>\n",
       "    </tr>\n",
       "    <tr>\n",
       "      <th>14</th>\n",
       "      <td>2250</td>\n",
       "      <td>3</td>\n",
       "      <td>101.00</td>\n",
       "    </tr>\n",
       "    <tr>\n",
       "      <th>15</th>\n",
       "      <td>1175</td>\n",
       "      <td>2</td>\n",
       "      <td>42.00</td>\n",
       "    </tr>\n",
       "    <tr>\n",
       "      <th>16</th>\n",
       "      <td>1180</td>\n",
       "      <td>3</td>\n",
       "      <td>48.00</td>\n",
       "    </tr>\n",
       "    <tr>\n",
       "      <th>17</th>\n",
       "      <td>1540</td>\n",
       "      <td>3</td>\n",
       "      <td>60.00</td>\n",
       "    </tr>\n",
       "    <tr>\n",
       "      <th>18</th>\n",
       "      <td>2770</td>\n",
       "      <td>3</td>\n",
       "      <td>102.00</td>\n",
       "    </tr>\n",
       "    <tr>\n",
       "      <th>19</th>\n",
       "      <td>800</td>\n",
       "      <td>1</td>\n",
       "      <td>32.00</td>\n",
       "    </tr>\n",
       "  </tbody>\n",
       "</table>\n",
       "</div>"
      ],
      "text/plain": [
       "    area  bedrooms   price\n",
       "0   1056         2   39.07\n",
       "1   2600         4  120.00\n",
       "2   1440         3   62.00\n",
       "3   1521         3   75.00\n",
       "4   1200         2   51.00\n",
       "5   1170         2   38.00\n",
       "6   2732         4  135.00\n",
       "7   3300         4  155.00\n",
       "8   1310         3   50.00\n",
       "9   3700         5  167.00\n",
       "10  1800         3   82.00\n",
       "11  2785         4  140.00\n",
       "12  1000         2   38.00\n",
       "13  1100         2   40.00\n",
       "14  2250         3  101.00\n",
       "15  1175         2   42.00\n",
       "16  1180         3   48.00\n",
       "17  1540         3   60.00\n",
       "18  2770         3  102.00\n",
       "19   800         1   32.00"
      ]
     },
     "execution_count": 4,
     "metadata": {},
     "output_type": "execute_result"
    }
   ],
   "source": [
    "df"
   ]
  },
  {
   "cell_type": "code",
   "execution_count": 7,
   "metadata": {},
   "outputs": [
    {
     "data": {
      "text/plain": [
       "array([[ 39.07],\n",
       "       [120.  ],\n",
       "       [ 62.  ],\n",
       "       [ 75.  ],\n",
       "       [ 51.  ],\n",
       "       [ 38.  ],\n",
       "       [135.  ],\n",
       "       [155.  ],\n",
       "       [ 50.  ],\n",
       "       [167.  ],\n",
       "       [ 82.  ],\n",
       "       [140.  ],\n",
       "       [ 38.  ],\n",
       "       [ 40.  ],\n",
       "       [101.  ],\n",
       "       [ 42.  ],\n",
       "       [ 48.  ],\n",
       "       [ 60.  ],\n",
       "       [102.  ],\n",
       "       [ 32.  ]])"
      ]
     },
     "execution_count": 7,
     "metadata": {},
     "output_type": "execute_result"
    }
   ],
   "source": [
    "df['price'].values.reshape(20,1)"
   ]
  },
  {
   "cell_type": "code",
   "execution_count": 8,
   "metadata": {},
   "outputs": [
    {
     "data": {
      "text/plain": [
       "array([[0.05237037],\n",
       "       [0.65185185],\n",
       "       [0.22222222],\n",
       "       [0.31851852],\n",
       "       [0.14074074],\n",
       "       [0.04444444],\n",
       "       [0.76296296],\n",
       "       [0.91111111],\n",
       "       [0.13333333],\n",
       "       [1.        ],\n",
       "       [0.37037037],\n",
       "       [0.8       ],\n",
       "       [0.04444444],\n",
       "       [0.05925926],\n",
       "       [0.51111111],\n",
       "       [0.07407407],\n",
       "       [0.11851852],\n",
       "       [0.20740741],\n",
       "       [0.51851852],\n",
       "       [0.        ]])"
      ]
     },
     "execution_count": 8,
     "metadata": {},
     "output_type": "execute_result"
    }
   ],
   "source": [
    "#from sklearn.preprocessing import MInMaxscaler\n",
    "from sklearn import preprocessing\n",
    "sx = preprocessing.MinMaxScaler()\n",
    "sy = preprocessing.MinMaxScaler()\n",
    "\n",
    "scaled_X = sx.fit_transform(df.drop('price',axis='columns'))\n",
    "scaled_y = sy.fit_transform(df['price'].values.reshape(-1,1))\n",
    "\n",
    "scaled_y"
   ]
  },
  {
   "cell_type": "code",
   "execution_count": 9,
   "metadata": {},
   "outputs": [
    {
     "data": {
      "text/plain": [
       "(20,)"
      ]
     },
     "execution_count": 9,
     "metadata": {},
     "output_type": "execute_result"
    }
   ],
   "source": [
    "scaled_y=scaled_y.reshape(20,)\n",
    "scaled_y.shape"
   ]
  },
  {
   "cell_type": "code",
   "execution_count": 11,
   "metadata": {},
   "outputs": [],
   "source": [
    "def batch_gradient_descent(X,y_true,epochs,learning_rate = 0.01):\n",
    "    number_of_features=X.shape[1]\n",
    "    w=np.ones(shape=(number_of_features))\n",
    "    #print(w)\n",
    "    b=0\n",
    "    #print(b)\n",
    "    total_samples=X.shape[0]\n",
    "    cost_list=[]\n",
    "    epoch_list=[]\n",
    "    for i in range(epochs):\n",
    "        y_predicted=np.dot(w,X.T)+b\n",
    "        w_gred=-(2/total_samples)*(np.dot(X.T,(y_true-y_predicted)))\n",
    "        b_gred=-(2/total_samples)*np.sum((y_true-y_predicted))\n",
    "        w=w-learning_rate*w_gred\n",
    "        b=b-learning_rate*b_gred\n",
    "        cost=np.mean(np.square(y_true-y_predicted))\n",
    "        if i%10==0:\n",
    "            cost_list.append(cost)\n",
    "            epoch_list.append(i)\n",
    "            print(f\"weight={w} bias={b} epoch={i} cost={cost}\")\n",
    "    return w,b,cost,cost_list,epoch_list\n",
    "\n",
    "    "
   ]
  },
  {
   "cell_type": "code",
   "execution_count": 13,
   "metadata": {},
   "outputs": [
    {
     "name": "stdout",
     "output_type": "stream",
     "text": [
      "weight=[0.99551317 0.99445655] bias=-0.009603223499361428 epoch=0 cost=0.2768777174681\n",
      "weight=[0.95630831 0.94626642] bias=-0.09163530752945695 epoch=10 cost=0.16573507027671064\n",
      "weight=[0.92561534 0.90895369] bias=-0.1526797697123304 epoch=20 cost=0.10212908135956808\n",
      "weight=[0.9013738  0.87987065] bias=-0.19789162051248474 epoch=30 cost=0.06564235879682481\n",
      "weight=[0.88202714 0.8570175 ] bias=-0.23116355287977375 epoch=40 cost=0.04463022365578522\n",
      "weight=[0.86639945 0.8388837 ] bias=-0.2554349736249456 epoch=50 cost=0.03245122421764872\n",
      "weight=[0.85360224 0.82432823] bias=-0.27292538144121864 epoch=60 cost=0.025317339083010492\n",
      "weight=[0.8429641  0.81248913] bias=-0.2853106120900698 epoch=70 cost=0.021067914076635823\n",
      "weight=[0.83397757 0.80271516] bias=-0.2938559373058315 epoch=80 cost=0.01847041893523527\n",
      "weight=[0.826259   0.79451428] bias=-0.2995165799588363 epoch=90 cost=0.016821657535428185\n",
      "weight=[0.81951826 0.78751463] bias=-0.30301362222683875 epoch=100 cost=0.015720331469182485\n",
      "weight=[0.81353584 0.78143512] bias=-0.3048913307554715 epoch=110 cost=0.014937329116527901\n",
      "weight=[0.80814559 0.77606324] bias=-0.30556044807220106 epoch=120 cost=0.014341749105819087\n",
      "weight=[0.80322164 0.77123825] bias=-0.30533088582370616 epoch=130 cost=0.0138587099774241\n",
      "weight=[0.79866856 0.76683852] bias=-0.3044364143529435 epoch=140 cost=0.013445288028074867\n",
      "weight=[0.79441393 0.76277198] bias=-0.3030533079748378 epoch=150 cost=0.013076793952344979\n",
      "weight=[0.79040267 0.75896884] bias=-0.30131442564353544 epoch=160 cost=0.012738945874049962\n",
      "weight=[0.78659287 0.75537619] bias=-0.2993198444640547 epoch=170 cost=0.012423405193086517\n",
      "weight=[0.78295249 0.75195384] bias=-0.29714488994018035 epoch=180 cost=0.012125230310262438\n",
      "weight=[0.77945703 0.74867123] bias=-0.2948462002592805 epoch=190 cost=0.011841424159334757\n",
      "weight=[0.77608763 0.74550508] bias=-0.29246630589863587 epoch=200 cost=0.011570105565415722\n",
      "weight=[0.77282973 0.74243756] bias=-0.29003708801571365 epoch=210 cost=0.011310036391930275\n",
      "weight=[0.76967201 0.73945505] bias=-0.28758239010641606 epoch=220 cost=0.01106035160957391\n",
      "weight=[0.76660562 0.73654702] bias=-0.28511999021952317 epoch=230 cost=0.010820405104702651\n",
      "weight=[0.76362356 0.73370536] bias=-0.28266309026978376 epoch=240 cost=0.010589681505198633\n",
      "weight=[0.76072023 0.73092372] bias=-0.28022144066929244 epoch=250 cost=0.010367745666240432\n",
      "weight=[0.75789113 0.72819713] bias=-0.27780218955569225 epoch=260 cost=0.010154213642862602\n",
      "weight=[0.75513254 0.72552166] bias=-0.2754105240396432 epoch=270 cost=0.009948735925187012\n",
      "weight=[0.7524414  0.72289414] bias=-0.2730501543884423 epoch=280 cost=0.009750987675343718\n",
      "weight=[0.74981509 0.72031201] bias=-0.2707236795978057 epoch=290 cost=0.009560662965348804\n",
      "weight=[0.74725137 0.71777316] bias=-0.2684328633904501 epoch=300 cost=0.009377471304274599\n",
      "weight=[0.74474829 0.71527582] bias=-0.2661788425712016 epoch=310 cost=0.009201135478234784\n",
      "weight=[0.7423041 0.7128185] bias=-0.2639622842997645 epoch=320 cost=0.009031390146006546\n",
      "weight=[0.73991723 0.7103999 ] bias=-0.26178350478796375 epoch=330 cost=0.008867980872255637\n",
      "weight=[0.73758623 0.70801887] bias=-0.259642558866484 epoch=340 cost=0.008710663416728342\n",
      "weight=[0.73530976 0.70567439] bias=-0.25753930755388427 epoch=350 cost=0.008559203175573597\n",
      "weight=[0.73308658 0.70336553] bias=-0.25547346901448403 epoch=360 cost=0.008413374715338717\n",
      "weight=[0.7309155  0.70109145] bias=-0.2534446569730072 epoch=370 cost=0.008272961365501463\n",
      "weight=[0.72879539 0.69885134] bias=-0.25145240965799764 epoch=380 cost=0.008137754849850727\n",
      "weight=[0.72672516 0.69664447] bias=-0.249496211593939 epoch=390 cost=0.00800755494527638\n",
      "weight=[0.72470378 0.69447013] bias=-0.24757550999405023 epoch=400 cost=0.007882169161242129\n",
      "weight=[0.72273024 0.69232764] bias=-0.24568972707680764 epoch=410 cost=0.0077614124359100785\n",
      "weight=[0.72080356 0.69021635] bias=-0.24383826930532643 epoch=420 cost=0.007645106846431061\n",
      "weight=[0.7189228  0.68813565] bias=-0.24202053430411505 epoch=430 cost=0.007533081331802613\n",
      "weight=[0.71708702 0.68608491] bias=-0.24023591602298297 epoch=440 cost=0.0074251714272102086\n",
      "weight=[0.71529533 0.68406357] bias=-0.23848380857837115 epoch=450 cost=0.007321219009066901\n",
      "weight=[0.71354684 0.68207104] bias=-0.2367636090970201 epoch=460 cost=0.007221072050143653\n",
      "weight=[0.7118407  0.68010678] bias=-0.23507471980732544 epoch=470 cost=0.007124584384290001\n",
      "weight=[0.71017606 0.67817023] bias=-0.23341654956364702 epoch=480 cost=0.007031615480311842\n",
      "weight=[0.7085521  0.67626087] bias=-0.23178851494346042 epoch=490 cost=0.006942030224616903\n",
      "weight=[0.706968   0.67437818] bias=-0.2301900410229738 epoch=500 cost=0.006855698712269262\n",
      "weight=[0.70542299 0.67252165] bias=-0.22862056191095523 epoch=510 cost=0.006772496046116872\n",
      "weight=[0.70391628 0.67069079] bias=-0.2270795211009728 epoch=520 cost=0.006692302143673977\n",
      "weight=[0.70244711 0.6688851 ] bias=-0.22556637168749305 epoch=530 cost=0.006615001551455677\n",
      "weight=[0.70101475 0.66710411] bias=-0.2240805764801373 epoch=540 cost=0.006540483266474946\n",
      "weight=[0.69961846 0.66534736] bias=-0.2226216080419813 epoch=550 cost=0.006468640564624793\n",
      "weight=[0.69825752 0.66361438] bias=-0.22118894867142677 epoch=560 cost=0.0063993708356792425\n",
      "weight=[0.69693124 0.66190473] bias=-0.21978209034237497 epoch=570 cost=0.006332575424657569\n",
      "weight=[0.69563894 0.66021796] bias=-0.21840053461380904 epoch=580 cost=0.006268159479306136\n",
      "weight=[0.69437992 0.65855365] bias=-0.217043792517154 epoch=590 cost=0.006206031803461809\n",
      "weight=[0.69315355 0.65691138] bias=-0.2157113844277194 epoch=600 cost=0.006146104716070052\n",
      "weight=[0.69195916 0.65529072] bias=-0.21440283992496717 epoch=610 cost=0.006088293915639654\n",
      "weight=[0.69079613 0.65369128] bias=-0.2131176976451711 epoch=620 cost=0.006032518349924327\n",
      "weight=[0.68966383 0.65211265] bias=-0.21185550512914472 epoch=630 cost=0.005978700090629711\n",
      "weight=[0.68856166 0.65055445] bias=-0.2106158186670433 epoch=640 cost=0.005926764212951875\n",
      "weight=[0.68748901 0.64901629] bias=-0.2093982031417386 epoch=650 cost=0.005876638679761104\n",
      "weight=[0.68644529 0.64749779] bias=-0.20820223187188386 epoch=660 cost=0.005828254230251763\n",
      "weight=[0.68542994 0.64599859] bias=-0.20702748645549693 epoch=670 cost=0.005781544272886026\n",
      "weight=[0.68444239 0.64451833] bias=-0.20587355661467313 epoch=680 cost=0.005736444782465944\n",
      "weight=[0.68348209 0.64305664] bias=-0.20474004004187457 epoch=690 cost=0.0056928942011745575\n",
      "weight=[0.68254848 0.6416132 ] bias=-0.2036265422481193 epoch=700 cost=0.005650833343433115\n",
      "weight=[0.68164106 0.64018764] bias=-0.20253267641330144 epoch=710 cost=0.0056102053044271285\n",
      "weight=[0.68075928 0.63877965] bias=-0.20145806323880233 epoch=720 cost=0.005570955372159875\n",
      "weight=[0.67990265 0.63738889] bias=-0.20040233080250036 epoch=730 cost=0.0055330309428972616\n",
      "weight=[0.67907065 0.63601505] bias=-0.19936511441624913 epoch=740 cost=0.005496381439873295\n",
      "weight=[0.67826281 0.6346578 ] bias=-0.19834605648586157 epoch=750 cost=0.005460958235130457\n",
      "weight=[0.67747863 0.63331684] bias=-0.1973448063736176 epoch=760 cost=0.005426714574374\n",
      "weight=[0.67671765 0.63199187] bias=-0.19636102026329635 epoch=770 cost=0.005393605504724091\n",
      "weight=[0.6759794  0.63068258] bias=-0.19539436102771973 epoch=780 cost=0.005361587805253863\n",
      "weight=[0.67526343 0.6293887 ] bias=-0.19444449809878836 epoch=790 cost=0.005330619920206152\n",
      "weight=[0.67456929 0.62810992] bias=-0.19351110733998206 epoch=800 cost=0.005300661894785441\n",
      "weight=[0.67389655 0.62684598] bias=-0.19259387092129232 epoch=810 cost=0.0052716753134258365\n",
      "weight=[0.67324478 0.6255966 ] bias=-0.19169247719655327 epoch=820 cost=0.005243623240439507\n",
      "weight=[0.67261356 0.62436151] bias=-0.19080662058313194 epoch=830 cost=0.005216470162953877\n",
      "weight=[0.67200247 0.62314045] bias=-0.18993600144393993 epoch=840 cost=0.005190181936049221\n",
      "weight=[0.67141113 0.62193315] bias=-0.18908032597172594 epoch=850 cost=0.005164725730011874\n",
      "weight=[0.67083912 0.62073936] bias=-0.18823930607560932 epoch=860 cost=0.005140069979621444\n",
      "weight=[0.67028606 0.61955884] bias=-0.18741265926981318 epoch=870 cost=0.005116184335393624\n",
      "weight=[0.66975157 0.61839134] bias=-0.18660010856455725 epoch=880 cost=0.005093039616703139\n",
      "weight=[0.66923529 0.61723662] bias=-0.18580138235906976 epoch=890 cost=0.0050706077667143626\n",
      "weight=[0.66873683 0.61609445] bias=-0.18501621433667848 epoch=900 cost=0.00504886180904993\n",
      "weight=[0.66825585 0.61496459] bias=-0.18424434336194134 epoch=910 cost=0.005027775806130214\n",
      "weight=[0.667792   0.61384683] bias=-0.18348551337977773 epoch=920 cost=0.005007324819119374\n",
      "weight=[0.66734492 0.61274093] bias=-0.18273947331656204 epoch=930 cost=0.004987484869415898\n",
      "weight=[0.66691429 0.61164669] bias=-0.1820059769831415 epoch=940 cost=0.004968232901628188\n",
      "weight=[0.66649976 0.61056389] bias=-0.18128478297974174 epoch=950 cost=0.004949546747977832\n",
      "weight=[0.66610102 0.60949231] bias=-0.18057565460272287 epoch=960 cost=0.004931405094075569\n",
      "weight=[0.66571775 0.60843177] bias=-0.17987835975315036 epoch=970 cost=0.004913787446016974\n",
      "weight=[0.66534963 0.60738205] bias=-0.17919267084714594 epoch=980 cost=0.004896674098747003\n",
      "weight=[0.66499636 0.60634296] bias=-0.17851836472798374 epoch=990 cost=0.004880046105644456\n"
     ]
    },
    {
     "data": {
      "text/plain": [
       "(array([0.66469087, 0.60541671]), -0.17792104056392882, 0.0048654808183488454)"
      ]
     },
     "execution_count": 13,
     "metadata": {},
     "output_type": "execute_result"
    }
   ],
   "source": [
    "w,b,cost,cost_list,epoch_list = batch_gradient_descent(scaled_X,scaled_y,1000)\n",
    "w, b, cost"
   ]
  },
  {
   "cell_type": "code",
   "execution_count": 14,
   "metadata": {},
   "outputs": [
    {
     "data": {
      "text/plain": [
       "[<matplotlib.lines.Line2D at 0x7fc1857c66d0>]"
      ]
     },
     "execution_count": 14,
     "metadata": {},
     "output_type": "execute_result"
    },
    {
     "data": {
      "image/png": "[encoded data removed]",
      "text/plain": [
       "<Figure size 432x288 with 1 Axes>"
      ]
     },
     "metadata": {
      "needs_background": "light"
     },
     "output_type": "display_data"
    }
   ],
   "source": [
    "import matplotlib.pyplot  as plt\n",
    "%matplotlib inline\n",
    "plt.plot(epoch_list,cost_list)"
   ]
  },
  {
   "cell_type": "code",
   "execution_count": 15,
   "metadata": {},
   "outputs": [
    {
     "data": {
      "text/plain": [
       "(array([0.66469087, 0.60541671]), -0.17792104056392882)"
      ]
     },
     "execution_count": 15,
     "metadata": {},
     "output_type": "execute_result"
    }
   ],
   "source": [
    "w,b"
   ]
  },
  {
   "cell_type": "code",
   "execution_count": 16,
   "metadata": {},
   "outputs": [
    {
     "data": {
      "text/plain": [
       "array([0.66469087, 0.60541671])"
      ]
     },
     "execution_count": 16,
     "metadata": {},
     "output_type": "execute_result"
    }
   ],
   "source": [
    "w"
   ]
  },
  {
   "cell_type": "code",
   "execution_count": 19,
   "metadata": {},
   "outputs": [
    {
     "name": "stdout",
     "output_type": "stream",
     "text": [
      "[[0.62068966 0.75      ]]\n",
      "0.688708236289262\n",
      "[[124.9756119]]\n"
     ]
    },
    {
     "name": "stderr",
     "output_type": "stream",
     "text": [
      "/home/shivam/anaconda3/lib/python3.7/site-packages/sklearn/base.py:451: UserWarning: X does not have valid feature names, but MinMaxScaler was fitted with feature names\n",
      "  \"X does not have valid feature names, but\"\n"
     ]
    },
    {
     "data": {
      "text/plain": [
       "124.97561189905038"
      ]
     },
     "execution_count": 19,
     "metadata": {},
     "output_type": "execute_result"
    }
   ],
   "source": [
    "def predict(area,bedrooms,w,b):\n",
    "    \n",
    "    scaled_X = sx.transform(np.array([[area,bedrooms]]))\n",
    "    print(scaled_X)\n",
    "    scaled_price = w[0] * scaled_X[0][0] + w[1] * scaled_X[0][1] + b\n",
    "    print(scaled_price)\n",
    "    # once we get price prediction we need to to rescal it back to original value\n",
    "    # also since it returns 2D array, to get single value we need to do value[0][0]\n",
    "    x=sy.inverse_transform([[scaled_price]])\n",
    "    print(x)\n",
    "    return x[0][0]\n",
    "\n",
    "predict(2600,4,w,b)"
   ]
  },
  {
   "cell_type": "code",
   "execution_count": 55,
   "metadata": {},
   "outputs": [
    {
     "data": {
      "text/plain": [
       "(1, 2)"
      ]
     },
     "execution_count": 55,
     "metadata": {},
     "output_type": "execute_result"
    }
   ],
   "source": [
    "np.array([[2600,4]]).shape"
   ]
  },
  {
   "cell_type": "code",
   "execution_count": 20,
   "metadata": {},
   "outputs": [
    {
     "name": "stdout",
     "output_type": "stream",
     "text": [
      "weight=[0.99996957 0.99992645] bias=-0.0002941890166028097 epoch=0 cost=0.08654717748972825\n",
      "weight=[0.97951584 0.97462136] bias=-0.04509167632351705 epoch=100 cost=0.16824287984304506\n",
      "weight=[0.96170352 0.95301533] bias=-0.08264347015573914 epoch=200 cost=0.13260600149025722\n",
      "weight=[0.9427199  0.93100112] bias=-0.1196610449140834 epoch=300 cost=0.010504132605136269\n",
      "weight=[0.92765379 0.91266991] bias=-0.14940348597180989 epoch=400 cost=0.09632386759227228\n",
      "weight=[0.91562558 0.89820425] bias=-0.17218849393457072 epoch=500 cost=0.015593523756399106\n",
      "weight=[0.90353428 0.88383415] bias=-0.19316797110643172 epoch=600 cost=0.002089185864342971\n",
      "weight=[0.8919542  0.87021028] bias=-0.21369873143366608 epoch=700 cost=0.038527472974175504\n",
      "weight=[0.88415484 0.8608504 ] bias=-0.22743013592959563 epoch=800 cost=0.031020156744455574\n",
      "weight=[0.87490264 0.85025722] bias=-0.24190101035610811 epoch=900 cost=0.012041201214123201\n",
      "weight=[0.86593039 0.84032317] bias=-0.25582563296820376 epoch=1000 cost=0.06788443118694791\n",
      "weight=[0.85904538 0.83216147] bias=-0.2649238154674252 epoch=1100 cost=0.014082863764082661\n",
      "weight=[0.85192788 0.82432843] bias=-0.2748032142427864 epoch=1200 cost=0.07566806702414804\n",
      "weight=[0.84597865 0.81786854] bias=-0.28165299409369093 epoch=1300 cost=0.03376748182920773\n",
      "weight=[0.84074009 0.81207761] bias=-0.2872099414206214 epoch=1400 cost=0.001476208880308478\n",
      "weight=[0.8364727  0.80744137] bias=-0.2919902465155364 epoch=1500 cost=0.0328631549554996\n",
      "weight=[0.83221543 0.80275645] bias=-0.2954172728580547 epoch=1600 cost=0.000510414146872056\n",
      "weight=[0.82827105 0.798547  ] bias=-0.298214657690209 epoch=1700 cost=0.0043058249374530394\n",
      "weight=[0.82478731 0.79499059] bias=-0.30105828515227895 epoch=1800 cost=0.01916618214280353\n",
      "weight=[0.82065771 0.79085362] bias=-0.30275879754278107 epoch=1900 cost=0.02196085699908754\n",
      "weight=[0.81849922 0.78853984] bias=-0.3033939004421948 epoch=2000 cost=0.09223223105540815\n",
      "weight=[0.81641941 0.78620906] bias=-0.3022100500327963 epoch=2100 cost=0.006453018285519446\n",
      "weight=[0.81246679 0.78209425] bias=-0.30499173230229926 epoch=2200 cost=0.008138545620262732\n",
      "weight=[0.80953188 0.77884107] bias=-0.3056186269108903 epoch=2300 cost=0.006462285872222629\n",
      "weight=[0.80730727 0.77656467] bias=-0.3055424016164617 epoch=2400 cost=0.0026890287227985454\n",
      "weight=[0.80552889 0.77485556] bias=-0.30554077428548315 epoch=2500 cost=0.020054340856289862\n",
      "weight=[0.80421425 0.77382677] bias=-0.30306219081142954 epoch=2600 cost=0.009740154679593075\n",
      "weight=[0.80208354 0.77165214] bias=-0.3029479772044896 epoch=2700 cost=0.009854379375752296\n",
      "weight=[0.79934354 0.76909192] bias=-0.3022919360341688 epoch=2800 cost=0.0027599119881298304\n",
      "weight=[0.79747171 0.76705858] bias=-0.30260711974715127 epoch=2900 cost=0.006704920385320189\n",
      "weight=[0.79504684 0.76464951] bias=-0.3024733829422635 epoch=3000 cost=0.0011415615951901091\n",
      "weight=[0.79200635 0.76168167] bias=-0.30203934193838455 epoch=3100 cost=0.00034182639369645547\n",
      "weight=[0.78956297 0.75930559] bias=-0.2998225440338026 epoch=3200 cost=0.004206026583038272\n",
      "weight=[0.78827978 0.75812277] bias=-0.29881099487229024 epoch=3300 cost=0.0014676436611438014\n",
      "weight=[0.78698125 0.7567851 ] bias=-0.29751874007411894 epoch=3400 cost=0.007404749117463359\n",
      "weight=[0.78507798 0.75503134] bias=-0.29757743296977485 epoch=3500 cost=0.007561557680221855\n",
      "weight=[0.78199494 0.75197281] bias=-0.29835642370628346 epoch=3600 cost=0.008187277244897132\n",
      "weight=[0.78035239 0.75047612] bias=-0.2953730328094477 epoch=3700 cost=0.01988450839207836\n",
      "weight=[0.77892158 0.74904484] bias=-0.2940554936723713 epoch=3800 cost=0.001976148115649598\n",
      "weight=[0.77764387 0.74782429] bias=-0.29301516215269124 epoch=3900 cost=0.00045580343834069145\n",
      "weight=[0.77557273 0.74585951] bias=-0.29292980627686604 epoch=4000 cost=0.009511259031652449\n",
      "weight=[0.77417627 0.74452495] bias=-0.29121720304851684 epoch=4100 cost=0.0004006110611366974\n",
      "weight=[0.77275725 0.74312697] bias=-0.29055268425501807 epoch=4200 cost=0.0003490647653760134\n",
      "weight=[0.77071507 0.74110121] bias=-0.28916893080280387 epoch=4300 cost=0.006145128924827115\n",
      "weight=[0.77032245 0.74086113] bias=-0.28655369015992255 epoch=4400 cost=0.0017754607304092556\n",
      "weight=[0.76940288 0.74030977] bias=-0.28281463770636744 epoch=4500 cost=0.0003148166839536798\n",
      "weight=[0.76823052 0.73897357] bias=-0.2814507038888971 epoch=4600 cost=0.005863980324027762\n",
      "weight=[0.76634149 0.73709768] bias=-0.2807958802221269 epoch=4700 cost=0.007780811665836018\n",
      "weight=[0.76544436 0.73606862] bias=-0.2793288844821763 epoch=4800 cost=0.0015795158731862287\n",
      "weight=[0.76392279 0.73459227] bias=-0.2784065720428765 epoch=4900 cost=0.0056357805667200086\n",
      "weight=[0.76200658 0.73291299] bias=-0.2772776277174158 epoch=5000 cost=0.04765350619637441\n",
      "weight=[0.75962903 0.73030475] bias=-0.2779521632636788 epoch=5100 cost=0.006524744722276837\n",
      "weight=[0.75802238 0.72884951] bias=-0.27737289624422334 epoch=5200 cost=0.00048230955317722115\n",
      "weight=[0.75607364 0.72710598] bias=-0.27608583164204337 epoch=5300 cost=0.017136285345398607\n",
      "weight=[0.75548873 0.7266472 ] bias=-0.2740996984670895 epoch=5400 cost=0.007202959274818178\n",
      "weight=[0.75388924 0.72513433] bias=-0.27330082283725227 epoch=5500 cost=8.77018445599832e-05\n",
      "weight=[0.75312182 0.72447013] bias=-0.27165966731791236 epoch=5600 cost=0.001197458327803907\n",
      "weight=[0.75148396 0.72307026] bias=-0.27006804609574625 epoch=5700 cost=0.006724978423344364\n",
      "weight=[0.75007425 0.72164549] bias=-0.2686110368154883 epoch=5800 cost=0.005822133455160256\n",
      "weight=[0.74915317 0.7207899 ] bias=-0.26761737290497634 epoch=5900 cost=0.0074447365116655844\n",
      "weight=[0.74784908 0.71952896] bias=-0.2664440114785859 epoch=6000 cost=0.005328013556347588\n",
      "weight=[0.74727891 0.71911086] bias=-0.2647682896525031 epoch=6100 cost=0.007518655539882103\n",
      "weight=[0.74597781 0.71765846] bias=-0.2644542756466217 epoch=6200 cost=0.0014999239586011245\n",
      "weight=[0.74446515 0.71603476] bias=-0.26339744619083716 epoch=6300 cost=0.00028331628225829197\n",
      "weight=[0.74357999 0.71530922] bias=-0.26227055684919937 epoch=6400 cost=0.0049348718754264305\n",
      "weight=[0.74165384 0.71318431] bias=-0.26264996075407343 epoch=6500 cost=0.06912317911917554\n",
      "weight=[0.7406268  0.71218513] bias=-0.2602520151125444 epoch=6600 cost=1.5624590810084654e-06\n",
      "weight=[0.73888878 0.71048796] bias=-0.2595927854772571 epoch=6700 cost=0.06752339353551874\n",
      "weight=[0.73802731 0.70960919] bias=-0.25895604843256753 epoch=6800 cost=0.008542308724317887\n",
      "weight=[0.73638193 0.70795896] bias=-0.2577253708393119 epoch=6900 cost=0.00856382998262409\n",
      "weight=[0.73614835 0.70786471] bias=-0.25534537421984815 epoch=7000 cost=0.0003226953031211532\n",
      "weight=[0.73409573 0.70570872] bias=-0.2557725350372999 epoch=7100 cost=0.06555062537954051\n",
      "weight=[0.7328948  0.70438512] bias=-0.2546628111794883 epoch=7200 cost=3.240277216743562e-05\n",
      "weight=[0.7317206  0.70304323] bias=-0.2544506301049476 epoch=7300 cost=0.0008885745588671122\n",
      "weight=[0.73097375 0.70251967] bias=-0.25193048320201533 epoch=7400 cost=0.004123222662131278\n",
      "weight=[0.73100219 0.7026229 ] bias=-0.24981882293629426 epoch=7500 cost=1.4077115200693016e-06\n",
      "weight=[0.72980687 0.70129715] bias=-0.24942321726844185 epoch=7600 cost=0.009285404410869641\n",
      "weight=[0.72890026 0.70021555] bias=-0.24771387840211148 epoch=7700 cost=0.006318210001115177\n",
      "weight=[0.7278652 0.6992289] bias=-0.24579052138227367 epoch=7800 cost=0.06053398784306823\n",
      "weight=[0.72616756 0.69766303] bias=-0.2459863220790722 epoch=7900 cost=0.0002939866837547498\n",
      "weight=[0.72465917 0.69601605] bias=-0.24701131709578333 epoch=8000 cost=0.0003809486741644511\n",
      "weight=[0.72356894 0.69480617] bias=-0.24585991988521974 epoch=8100 cost=0.005577151338728117\n",
      "weight=[0.72264931 0.69389952] bias=-0.24534441009360367 epoch=8200 cost=0.0031846300593703306\n",
      "weight=[0.72133532 0.69258581] bias=-0.24522930430813367 epoch=8300 cost=0.002802425309757267\n",
      "weight=[0.72085184 0.692064  ] bias=-0.24308200498993654 epoch=8400 cost=0.0015891455270431833\n",
      "weight=[0.71937044 0.69026495] bias=-0.2428546770204962 epoch=8500 cost=0.004848839038984672\n",
      "weight=[0.71915781 0.68988756] bias=-0.24068085317179333 epoch=8600 cost=0.003266834870623485\n",
      "weight=[0.71780026 0.68842857] bias=-0.23998053437392985 epoch=8700 cost=0.0010499553108932055\n",
      "weight=[0.71701928 0.6874853 ] bias=-0.2390428963548816 epoch=8800 cost=0.001267334218612783\n",
      "weight=[0.71583476 0.68622654] bias=-0.23795491453036943 epoch=8900 cost=0.0023000918583391382\n",
      "weight=[0.71489828 0.68534457] bias=-0.23641753245462013 epoch=9000 cost=0.00029819800684516854\n",
      "weight=[0.71399059 0.6842532 ] bias=-0.2363466929770445 epoch=9100 cost=0.009630702102211598\n",
      "weight=[0.71289409 0.68301909] bias=-0.23541858944413027 epoch=9200 cost=0.055532922568077556\n",
      "weight=[0.71144924 0.68165953] bias=-0.23500034073975237 epoch=9300 cost=0.00046648597235271814\n",
      "weight=[0.71095813 0.68119915] bias=-0.2338883200176854 epoch=9400 cost=0.00034323130579074407\n",
      "weight=[0.70981435 0.67985911] bias=-0.23285909787288445 epoch=9500 cost=0.005020776590647615\n",
      "weight=[0.70939465 0.67930544] bias=-0.23149440157918155 epoch=9600 cost=0.002335592082666464\n",
      "weight=[0.70798969 0.67746735] bias=-0.2311243499684925 epoch=9700 cost=0.0026713185649404826\n",
      "weight=[0.7072284  0.67663181] bias=-0.2304444980460033 epoch=9800 cost=0.0005982179684543867\n",
      "weight=[0.70670834 0.67606527] bias=-0.2288370323806878 epoch=9900 cost=0.0021179881817366152\n"
     ]
    },
    {
     "data": {
      "text/plain": [
       "(array([0.70572378, 0.67443584]), -0.22965609088851288, 0.006454728192235841)"
      ]
     },
     "execution_count": 20,
     "metadata": {},
     "output_type": "execute_result"
    }
   ],
   "source": [
    "import random\n",
    "def stochastic_gradient_descent(X, y_true, epochs, learning_rate = 0.01):\n",
    " \n",
    "    number_of_features = X.shape[1]\n",
    "    # numpy array with 1 row and columns equal to number of features. In \n",
    "    # our case number_of_features = 3 (area, bedroom and age)\n",
    "    w = np.ones(shape=(number_of_features)) \n",
    "    b = 0\n",
    "    total_samples = X.shape[0]\n",
    "    \n",
    "    cost_list = []\n",
    "    epoch_list = []\n",
    "    \n",
    "    for i in range(epochs):    \n",
    "        random_index = random.randint(0,total_samples-1) # random index from total samples\n",
    "        sample_x = X[random_index]\n",
    "        sample_y = y_true[random_index]\n",
    "        \n",
    "        y_predicted = np.dot(w, sample_x.T) + b\n",
    "    \n",
    "        w_grad = -(2/total_samples)*(sample_x.T.dot(sample_y-y_predicted))\n",
    "        b_grad = -(2/total_samples)*(sample_y-y_predicted)\n",
    "        \n",
    "        w = w - learning_rate * w_grad\n",
    "        b = b - learning_rate * b_grad\n",
    "        \n",
    "        cost = np.square(sample_y-y_predicted)\n",
    "        \n",
    "        if i%100==0: # at every 100th iteration record the cost and epoch value\n",
    "            cost_list.append(cost)\n",
    "            epoch_list.append(i)\n",
    "            print(f\"weight={w} bias={b} epoch={i} cost={cost}\")\n",
    "        \n",
    "    return w, b, cost, cost_list, epoch_list\n",
    "\n",
    "w_sgd, b_sgd, cost_sgd, cost_list_sgd, epoch_list_sgd = stochastic_gradient_descent(scaled_X,scaled_y.reshape(scaled_y.shape[0],),10000)\n",
    "w_sgd, b_sgd, cost_sgd"
   ]
  },
  {
   "cell_type": "code",
   "execution_count": 21,
   "metadata": {},
   "outputs": [
    {
     "data": {
      "text/plain": [
       "[<matplotlib.lines.Line2D at 0x7fc1856bb190>]"
      ]
     },
     "execution_count": 21,
     "metadata": {},
     "output_type": "execute_result"
    },
    {
     "data": {
      "image/png": "[encoded data removed]",
      "text/plain": [
       "<Figure size 432x288 with 1 Axes>"
      ]
     },
     "metadata": {
      "needs_background": "light"
     },
     "output_type": "display_data"
    }
   ],
   "source": [
    "plt.xlabel(\"epoch\")\n",
    "plt.ylabel(\"cost\")\n",
    "plt.plot(epoch_list,cost_list)"
   ]
  },
  {
   "cell_type": "code",
   "execution_count": 22,
   "metadata": {},
   "outputs": [
    {
     "name": "stdout",
     "output_type": "stream",
     "text": [
      "weight=[0.98272719 0.97865522] bias=-0.03692925321568331 epoch=0 cost=0.27012008877569205\n",
      "weight=[0.87706879 0.85112872] bias=-0.23940359682005735 epoch=10 cost=0.014418163271753718\n",
      "weight=[0.83158953 0.80007822] bias=-0.29590424741147864 epoch=20 cost=0.004910755879389396\n",
      "weight=[0.80674457 0.77462341] bias=-0.3053994365564433 epoch=30 cost=0.023075754822438097\n",
      "weight=[0.78927003 0.75784454] bias=-0.30064001576434496 epoch=40 cost=0.0029244387912173925\n",
      "weight=[0.774998   0.74439533] bias=-0.2918602487251775 epoch=50 cost=0.019036382083516826\n",
      "weight=[0.76271097 0.73276141] bias=-0.28186492624408854 epoch=60 cost=0.0055097512425635745\n",
      "weight=[0.751543   0.72193282] bias=-0.2723915376527293 epoch=70 cost=0.011187314877141852\n",
      "weight=[0.74148336 0.71192456] bias=-0.2632659671555341 epoch=80 cost=0.020006664847236132\n",
      "weight=[0.73238067 0.70257983] bias=-0.2546771092787028 epoch=90 cost=0.002890726201566907\n",
      "weight=[0.72399099 0.6936447 ] bias=-0.2469441288224201 epoch=100 cost=0.0033277673038931517\n",
      "weight=[0.71648158 0.68536291] bias=-0.23948696769256983 epoch=110 cost=0.015237745809952925\n"
     ]
    },
    {
     "data": {
      "text/plain": [
       "(array([0.71025213, 0.6782151 ]), -0.23337782251813796, 0.014147324507422423)"
      ]
     },
     "execution_count": 22,
     "metadata": {},
     "output_type": "execute_result"
    }
   ],
   "source": [
    "def mini_batch_gradient_descent(X, y_true, epochs = 100, batch_size = 5, learning_rate = 0.01):\n",
    "    \n",
    "    number_of_features = X.shape[1]\n",
    "    # numpy array with 1 row and columns equal to number of features. In \n",
    "    # our case number_of_features = 3 (area, bedroom and age)\n",
    "    w = np.ones(shape=(number_of_features)) \n",
    "    b = 0\n",
    "    total_samples = X.shape[0] # number of rows in X\n",
    "    \n",
    "    if batch_size > total_samples: # In this case mini batch becomes same as batch gradient descent\n",
    "        batch_size = total_samples\n",
    "        \n",
    "    cost_list = []\n",
    "    epoch_list = []\n",
    "    \n",
    "    num_batches = int(total_samples/batch_size)\n",
    "    \n",
    "    for i in range(epochs):    \n",
    "        random_indices = np.random.permutation(total_samples)\n",
    "        X_tmp = X[random_indices]\n",
    "        y_tmp = y_true[random_indices]\n",
    "        \n",
    "        for j in range(0,total_samples,batch_size):\n",
    "            Xj = X_tmp[j:j+batch_size]\n",
    "            yj = y_tmp[j:j+batch_size]\n",
    "            y_predicted = np.dot(w, Xj.T) + b\n",
    "            \n",
    "            w_grad = -(2/len(Xj))*(Xj.T.dot(yj-y_predicted))\n",
    "            b_grad = -(2/len(Xj))*np.sum(yj-y_predicted)\n",
    "            \n",
    "            w = w - learning_rate * w_grad\n",
    "            b = b - learning_rate * b_grad\n",
    "                \n",
    "            cost = np.mean(np.square(yj-y_predicted)) # MSE (Mean Squared Error)\n",
    "        \n",
    "        if i%10==0:\n",
    "            cost_list.append(cost)\n",
    "            epoch_list.append(i)\n",
    "            print(f\"weight={w} bias={b} epoch={i} cost={cost}\")\n",
    "        \n",
    "    return w, b, cost, cost_list, epoch_list\n",
    "\n",
    "w, b, cost, cost_list, epoch_list = mini_batch_gradient_descent(\n",
    "    scaled_X,\n",
    "    scaled_y.reshape(scaled_y.shape[0],),\n",
    "    epochs = 120,\n",
    "    batch_size = 5\n",
    ")\n",
    "w, b, cost"
   ]
  },
  {
   "cell_type": "code",
   "execution_count": 59,
   "metadata": {},
   "outputs": [
    {
     "data": {
      "text/plain": [
       "[<matplotlib.lines.Line2D at 0x7f6ba17e6310>]"
      ]
     },
     "execution_count": 59,
     "metadata": {},
     "output_type": "execute_result"
    },
    {
     "data": {
      "image/png": "[encoded data removed]",
      "text/plain": [
       "<Figure size 432x288 with 1 Axes>"
      ]
     },
     "metadata": {
      "needs_background": "light"
     },
     "output_type": "display_data"
    }
   ],
   "source": [
    "plt.xlabel(\"epoch\")\n",
    "plt.ylabel(\"cost\")\n",
    "plt.plot(epoch_list,cost_list)"
   ]
  },
  {
   "cell_type": "code",
   "execution_count": 60,
   "metadata": {},
   "outputs": [
    {
     "name": "stderr",
     "output_type": "stream",
     "text": [
      "/home/shivam/anaconda3/lib/python3.7/site-packages/sklearn/base.py:451: UserWarning: X does not have valid feature names, but MinMaxScaler was fitted with feature names\n",
      "  \"X does not have valid feature names, but\"\n"
     ]
    },
    {
     "data": {
      "text/plain": [
       "128.66886196234438"
      ]
     },
     "execution_count": 60,
     "metadata": {},
     "output_type": "execute_result"
    }
   ],
   "source": [
    "def predict(area,bedrooms,w,b):\n",
    "    scaled_X = sx.transform([[area, bedrooms]])[0]\n",
    "    # here w1 = w[0] , w2 = w[1], w3 = w[2] and bias is b\n",
    "    # equation for price is w1*area + w2*bedrooms + w3*age + bias\n",
    "    # scaled_X[0] is area\n",
    "    # scaled_X[1] is bedrooms\n",
    "    # scaled_X[2] is age\n",
    "    scaled_price = w[0] * scaled_X[0] + w[1] * scaled_X[1] + b\n",
    "    # once we get price prediction we need to to rescal it back to original value\n",
    "    # also since it returns 2D array, to get single value we need to do value[0][0]\n",
    "    return sy.inverse_transform([[scaled_price]])[0][0]\n",
    "\n",
    "predict(2600,4,w,b)"
   ]
  }
 ],
 "metadata": {
  "kernelspec": {
   "display_name": "Python 3",
   "language": "python",
   "name": "python3"
  },
  "language_info": {
   "codemirror_mode": {
    "name": "ipython",
    "version": 3
   },
   "file_extension": ".py",
   "mimetype": "text/x-python",
   "name": "python",
   "nbconvert_exporter": "python",
   "pygments_lexer": "ipython3",
   "version": "3.7.9"
  }
 },
 "nbformat": 4,
 "nbformat_minor": 2
}
